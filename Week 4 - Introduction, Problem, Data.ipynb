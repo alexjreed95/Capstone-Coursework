{
    "nbformat_minor": 1, 
    "cells": [
        {
            "source": "# Applied Data Science Capstone", 
            "cell_type": "markdown", 
            "metadata": {
                "collapsed": true
            }
        }, 
        {
            "source": "## The Battle of Neighbourhoods \n### The Office: North or South of the River?", 
            "cell_type": "markdown", 
            "metadata": {}
        }, 
        {
            "source": "1. Introduction\n\nGiven the nature of London, the capital city of England, and its ever increasing density of population and general busyness, there appear to be few possible moments of genuine peace, tranquility, and calm in the outdoor environment. So often, the man-made skyscrapers, buildings, and general infrastrucutre contrasts the historical living conditions for people in the United Kingdom, and expensive weekend holidays are consequently taken to visit what some may refer to as 'the great outdoors'. However, to take advantage of the occasional bubbles of parks that are offered in London, most people visit these green areas as an opportunity to walk through greenery to be in the fresh air, escape the grey architecutre of the city, and often peruse these areas at lunch breaks during the working week, whilst still remaining in London. Parks act as an opportunity to escape urban life.\n\nFor this project, we will take the hypothetical situation where a business owner wants to select an area in London for their new office, where the number of nearby high-quality parks will be the swaying factor in their decision making process.", 
            "cell_type": "markdown", 
            "metadata": {}
        }, 
        {
            "source": "2. Business Problem\n\nThe CEO wants to provide staff with numerous opportunities to improve wellbeing via facilitating the ability to visit various parks during lunch breaks. Would it be preferential for the business owner to invest in a property in North or South London to maximise the ability for his happy employees to visit as many parks as possible during lunch breaks? Additionally, which parks would the employees derive most satisfaction from? Consequentially, in which area should the company look to purchase their new office space?", 
            "cell_type": "markdown", 
            "metadata": {}
        }, 
        {
            "source": "3. Data\n\nTo help answer these questions in an effective manner, we would need to gather data indicating the difference between North and South London, the neighbourhoods/boroughs and parks situated in North and South London as well as their latitude and longitude coordinates, and also data that relates specifically to the given parks (venue data).\n\nWe will be able to utilise Foursquare API to acquire data, which will provide coordinates and venue data, from which it will be possible to slice, dice, drill, drop, cleanse, and conquer the data, ultimately using it to integrate fact-based argumentation into our finalised recommendation.\n\nIt will be possible to visualise our data in a varitey of ways, yet also harness the power of machine learning to develop clusters which will be effective for geospatial analysis. Additionally, we will be able to complemenent our utilised tools and techniques with various data that can be scraped from the web via Beautiful soup - this method shall be used towards the end of our analysis, once we have determined a small number of potential investment opportunities to holistically evaluate a final choice.", 
            "cell_type": "markdown", 
            "metadata": {}
        }, 
        {
            "execution_count": null, 
            "cell_type": "code", 
            "metadata": {}, 
            "outputs": [], 
            "source": ""
        }
    ], 
    "metadata": {
        "kernelspec": {
            "display_name": "Python 3.6", 
            "name": "python3", 
            "language": "python"
        }, 
        "language_info": {
            "mimetype": "text/x-python", 
            "nbconvert_exporter": "python", 
            "version": "3.6.8", 
            "name": "python", 
            "file_extension": ".py", 
            "pygments_lexer": "ipython3", 
            "codemirror_mode": {
                "version": 3, 
                "name": "ipython"
            }
        }
    }, 
    "nbformat": 4
}